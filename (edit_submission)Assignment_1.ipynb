{
  "nbformat": 4,
  "nbformat_minor": 0,
  "metadata": {
    "kernelspec": {
      "display_name": "Python 3",
      "language": "python",
      "name": "python3"
    },
    "language_info": {
      "codemirror_mode": {
        "name": "ipython",
        "version": 3
      },
      "file_extension": ".py",
      "mimetype": "text/x-python",
      "name": "python",
      "nbconvert_exporter": "python",
      "pygments_lexer": "ipython3",
      "version": "3.7.4"
    },
    "colab": {
      "name": "RESNET50_A_Assignment_1.ipynb",
      "provenance": [],
      "collapsed_sections": [
        "R0p_opTIK3GR",
        "eWeZ42HpK3Gd",
        "zS3mvgtBK3Gp",
        "3XUsMAJiK3Gy",
        "olQuDu-CK3G6",
        "dvrkLaaTK3HD",
        "glAAiOUvK3HM",
        "IPh30jFIK3HV",
        "Fo1L-vDzK3Hf",
        "JYH8oxrVK3Hn",
        "Jph05V4hK3Hx",
        "WZBB9ef2K3H4",
        "PKcKa_yQK3IB",
        "JaN1W9BGTIkk",
        "AcL4xgXU0fv3",
        "mxsvnFQ-kj9u",
        "KQTWCATauj17"
      ]
    },
    "accelerator": "GPU"
  },
  "cells": [
    {
      "cell_type": "markdown",
      "metadata": {
        "id": "Z8olYqmuK3Ft",
        "colab_type": "text"
      },
      "source": [
        "<table class=\"table table-bordered\">\n",
        "    <tr>\n",
        "        <th style=\"text-align:center; width:25%\"><img src='https://www.np.edu.sg/PublishingImages/Pages/default/odp/ICT.jpg' style=\"width: 250px; height: 125px; \"></th>\n",
        "        <th style=\"text-align:center;\"><h1>Deep Learning</h1><h2>Assignment 1 - Food Classification Model (Individual)</h2><h3>AY2020/21 Semester</h3></th>\n",
        "    </tr>\n",
        "</table>"
      ]
    },
    {
      "cell_type": "code",
      "metadata": {
        "id": "b-7DO7HPK3Fu",
        "colab_type": "code",
        "outputId": "de5da4c8-4982-4362-f281-b53f64cdfb00",
        "colab": {
          "base_uri": "https://localhost:8080/",
          "height": 34
        }
      },
      "source": [
        "# Import the Required Packages\n",
        "from tensorflow import keras\n",
        "print('keras: ', keras.__version__)\n",
        "\n",
        "from IPython.core.display import display, HTML\n",
        "display(HTML(\"<style>.container { width:95% !important; }</style>\"))"
      ],
      "execution_count": 0,
      "outputs": [
        {
          "output_type": "stream",
          "text": [
            "keras:  2.3.0-tf\n"
          ],
          "name": "stdout"
        },
        {
          "output_type": "display_data",
          "data": {
            "text/html": [
              "<style>.container { width:95% !important; }</style>"
            ],
            "text/plain": [
              "<IPython.core.display.HTML object>"
            ]
          },
          "metadata": {
            "tags": []
          }
        }
      ]
    },
    {
      "cell_type": "markdown",
      "metadata": {
        "id": "3gMOxpPZUhmT",
        "colab_type": "text"
      },
      "source": [
        "## Step 1: Data Loading"
      ]
    },
    {
      "cell_type": "markdown",
      "metadata": {
        "colab_type": "text",
        "id": "8pKvLQ6zUbWL"
      },
      "source": [
        "### Local Machine JupyterNotebook"
      ]
    },
    {
      "cell_type": "code",
      "metadata": {
        "colab_type": "code",
        "id": "ErxLGONOUbWO",
        "colab": {}
      },
      "source": [
        "import tensorflow.keras\n",
        "import os, shutil\n",
        "\n",
        " #Set the base directory as the current directory\n",
        "base_dir = os.getcwd()\n",
        "\n",
        "#Set the base directory as where you save the downloaded food_images\n",
        "image_dir = 'C:/DL_Notebk/food_images' \n",
        "\n",
        "# Directories for your training, validation and test splits\n",
        "train_dir = os.path.join(base_dir, 'train')\n",
        "os.mkdir(train_dir)\n",
        "validation_dir = os.path.join(base_dir, 'validation')\n",
        "os.mkdir(validation_dir)\n",
        "test_dir = os.path.join(base_dir, 'test')\n",
        "os.mkdir(test_dir)\n",
        "\n",
        "# Assign the 10 types of food from your .txt file to a list variable 'food_list'\n",
        "   \n",
        "label_file = os.path.join(base_dir, '13.txt') \n",
        "# Refer to the report Appendix\n",
        "# Please enter the name of .txt file which contains a list of food assigned to you\n",
        "# Make sure you save the .txt file in your base_dir\n",
        "\n",
        "with open(label_file, 'r') as f:\n",
        "    x = f.readlines()\n",
        "    \n",
        "food_list =[]\n",
        "for item in x:\n",
        "    if item == '\\n':\n",
        "        continue        \n",
        "    else:\n",
        "        food_list.append(item.strip('\\n'))\n",
        "        \n",
        "#copy the first 750 images to train folder\n",
        "for item in food_list:\n",
        "    train_food_dir = os.path.join(train_dir, item)\n",
        "    os.mkdir(train_food_dir)\n",
        "    img_list = os.listdir(os.path.join(image_dir, item))[:750]\n",
        "    for fname in img_list:\n",
        "        src = os.path.join(image_dir, item, fname)\n",
        "        dst = os.path.join(train_food_dir, fname)\n",
        "        shutil.copyfile(src, dst)\n",
        "        \n",
        "#copy the following 200 images [750:950] to validation folder\n",
        "for item in food_list:\n",
        "    validation_food_dir = os.path.join(validation_dir, item)\n",
        "    os.mkdir(validation_food_dir)\n",
        "    img_list = os.listdir(os.path.join(image_dir, item))[750:950]\n",
        "    for fname in img_list:\n",
        "        src = os.path.join(image_dir, item, fname)\n",
        "        dst = os.path.join(validation_food_dir, fname)\n",
        "        shutil.copyfile(src, dst)\n",
        "        \n",
        "#copy the remaining 50 images [950:1000] to test folder\n",
        "for item in food_list:\n",
        "    test_food_dir = os.path.join(test_dir, item)\n",
        "    os.mkdir(test_food_dir)\n",
        "    img_list = os.listdir(os.path.join(image_dir, item))[950:1000]\n",
        "    for fname in img_list:\n",
        "        src = os.path.join(image_dir, item, fname)\n",
        "        dst = os.path.join(test_food_dir, fname)\n",
        "        shutil.copyfile(src, dst)"
      ],
      "execution_count": 0,
      "outputs": []
    },
    {
      "cell_type": "code",
      "metadata": {
        "colab_type": "code",
        "id": "0xMZGiCmUbWS",
        "colab": {}
      },
      "source": [
        "#run if directories already created\n",
        "\n",
        "import tensorflow.keras\n",
        "import os, shutil\n",
        "\n",
        "#Set the base directory as the current directory\n",
        "base_dir = os.getcwd()\n",
        "\n",
        "#Set the base directory as where you save the downloaded food_images\n",
        "image_dir = 'C:/DL_Notebk/food_images' \n",
        "# Directories for your training, validation and test splits\n",
        "train_dir = os.path.join(base_dir, 'train')\n",
        "validation_dir = os.path.join(base_dir, 'validation')\n",
        "test_dir = os.path.join(base_dir, 'test')"
      ],
      "execution_count": 0,
      "outputs": []
    },
    {
      "cell_type": "markdown",
      "metadata": {
        "id": "873Vrsesg2sw",
        "colab_type": "text"
      },
      "source": [
        "### Google Colab + GitHub"
      ]
    },
    {
      "cell_type": "code",
      "metadata": {
        "colab_type": "code",
        "outputId": "f3529054-5870-450c-fed6-04ad6b7fdabd",
        "id": "IpmVgmBUUbWT",
        "colab": {
          "base_uri": "https://localhost:8080/",
          "height": 151
        }
      },
      "source": [
        "#run for GitHub Colab\n",
        "!git clone \"https://github.com/BenjLiew/DL_Assg1.git\"\n"
      ],
      "execution_count": 0,
      "outputs": [
        {
          "output_type": "stream",
          "text": [
            "Cloning into 'DL_Assg1'...\n",
            "remote: Enumerating objects: 11, done.\u001b[K\n",
            "remote: Counting objects: 100% (11/11), done.\u001b[K\n",
            "remote: Compressing objects: 100% (9/9), done.\u001b[K\n",
            "remote: Total 10050 (delta 5), reused 7 (delta 2), pack-reused 10039\u001b[K\n",
            "Receiving objects: 100% (10050/10050), 474.95 MiB | 12.99 MiB/s, done.\n",
            "Resolving deltas: 100% (6/6), done.\n",
            "Checking out files: 100% (10002/10002), done.\n"
          ],
          "name": "stdout"
        }
      ]
    },
    {
      "cell_type": "code",
      "metadata": {
        "colab_type": "code",
        "id": "XAyadqwsUbWV",
        "colab": {}
      },
      "source": [
        "#GitHub Colab directory\n",
        "# Directories for your training, validation and test splits\n",
        "train_dir = '/content/DL_Assg1/train'\n",
        "validation_dir = '/content/DL_Assg1/validation'\n",
        "test_dir = '/content/DL_Assg1/test'"
      ],
      "execution_count": 0,
      "outputs": []
    },
    {
      "cell_type": "code",
      "metadata": {
        "colab_type": "code",
        "outputId": "88c020ac-3fb0-46c5-a12e-01a6d39b8e94",
        "id": "ojCax7iBUbWW",
        "colab": {
          "base_uri": "https://localhost:8080/",
          "height": 121
        }
      },
      "source": [
        "#Google drive model upload/save storage\n",
        "from google.colab import drive\n",
        "drive.mount('/content/drive')\n",
        "\n",
        "model_path='/content/drive/My Drive/Colab Notebooks/models/'"
      ],
      "execution_count": 0,
      "outputs": [
        {
          "output_type": "stream",
          "text": [
            "Go to this URL in a browser: https://accounts.google.com/o/oauth2/auth?client_id=947318989803-6bn6qk8qdgf4n4g3pfee6491hc0brc4i.apps.googleusercontent.com&redirect_uri=urn%3aietf%3awg%3aoauth%3a2.0%3aoob&response_type=code&scope=email%20https%3a%2f%2fwww.googleapis.com%2fauth%2fdocs.test%20https%3a%2f%2fwww.googleapis.com%2fauth%2fdrive%20https%3a%2f%2fwww.googleapis.com%2fauth%2fdrive.photos.readonly%20https%3a%2f%2fwww.googleapis.com%2fauth%2fpeopleapi.readonly\n",
            "\n",
            "Enter your authorization code:\n",
            "··········\n",
            "Mounted at /content/drive\n"
          ],
          "name": "stdout"
        }
      ]
    },
    {
      "cell_type": "markdown",
      "metadata": {
        "id": "w2AKdFHvK3F4",
        "colab_type": "text"
      },
      "source": [
        "## Step 2:  Develop the Image Classification Models"
      ]
    },
    {
      "cell_type": "markdown",
      "metadata": {
        "id": "8ajjUMIoK3F5",
        "colab_type": "text"
      },
      "source": [
        "### Model #1 (BaseModel / Own-Model)"
      ]
    },
    {
      "cell_type": "code",
      "metadata": {
        "id": "iVX11qKhVWOR",
        "colab_type": "code",
        "colab": {}
      },
      "source": [
        ""
      ],
      "execution_count": 0,
      "outputs": []
    },
    {
      "cell_type": "markdown",
      "metadata": {
        "id": "Xb_kdMjqVXwZ",
        "colab_type": "text"
      },
      "source": [
        "### Model #2 (Pre-train - ResNet50)"
      ]
    },
    {
      "cell_type": "code",
      "metadata": {
        "id": "6m-S1vCnVlms",
        "colab_type": "code",
        "colab": {}
      },
      "source": [
        ""
      ],
      "execution_count": 0,
      "outputs": []
    },
    {
      "cell_type": "markdown",
      "metadata": {
        "colab_type": "text",
        "id": "LFcaoXpuDxGL"
      },
      "source": [
        "### Model #3 (Pre-train - VGG19)"
      ]
    },
    {
      "cell_type": "code",
      "metadata": {
        "colab_type": "code",
        "outputId": "ff0bee1e-144a-4cd3-8f8b-9b36e057378a",
        "id": "FiVyBN5-DxGP",
        "colab": {
          "base_uri": "https://localhost:8080/",
          "height": 1000
        }
      },
      "source": [
        "# Build the Model\n",
        "from tensorflow.keras.applications import VGG19\n",
        "import os\n",
        "import numpy as np\n",
        "from tensorflow.keras.preprocessing.image import ImageDataGenerator\n",
        "from tensorflow.keras import models\n",
        "from tensorflow.keras import layers\n",
        "from tensorflow.keras import optimizers\n",
        "from tensorflow.keras import regularizers\n",
        "import matplotlib.pyplot as plt\n",
        "%matplotlib inline\n",
        "\n",
        "img_size = 150\n",
        "\n",
        "#VGG19 convbase\n",
        "conv_base2 = VGG19(weights='imagenet',\n",
        "                  include_top=False,\n",
        "                  input_shape=(img_size, img_size, 3))\n",
        "\n",
        "#unfreezing layers \n",
        "conv_base2.trainable = True\n",
        "\n",
        "model2 = models.Sequential()\n",
        "model2.add(conv_base2) #VGG19 pre-train\n",
        "model2.add(layers.Flatten())\n",
        "model2.add(layers.Dense(256, kernel_regularizer=regularizers.l2(0.002), activation='relu'))\n",
        "model2.add(layers.Dropout(0.5))\n",
        "model2.add(layers.Dense(512, kernel_regularizer=regularizers.l2(0.002), activation='relu'))\n",
        "model2.add(layers.Dropout(0.5))\n",
        "model2.add(layers.Dense(10, activation='softmax'))\n",
        "\n",
        "\n",
        "conv_base2.summary()\n",
        "model2.summary()"
      ],
      "execution_count": 0,
      "outputs": [
        {
          "output_type": "stream",
          "text": [
            "Downloading data from https://storage.googleapis.com/tensorflow/keras-applications/vgg19/vgg19_weights_tf_dim_ordering_tf_kernels_notop.h5\n",
            "80142336/80134624 [==============================] - 1s 0us/step\n",
            "Model: \"vgg19\"\n",
            "_________________________________________________________________\n",
            "Layer (type)                 Output Shape              Param #   \n",
            "=================================================================\n",
            "input_1 (InputLayer)         [(None, 150, 150, 3)]     0         \n",
            "_________________________________________________________________\n",
            "block1_conv1 (Conv2D)        (None, 150, 150, 64)      1792      \n",
            "_________________________________________________________________\n",
            "block1_conv2 (Conv2D)        (None, 150, 150, 64)      36928     \n",
            "_________________________________________________________________\n",
            "block1_pool (MaxPooling2D)   (None, 75, 75, 64)        0         \n",
            "_________________________________________________________________\n",
            "block2_conv1 (Conv2D)        (None, 75, 75, 128)       73856     \n",
            "_________________________________________________________________\n",
            "block2_conv2 (Conv2D)        (None, 75, 75, 128)       147584    \n",
            "_________________________________________________________________\n",
            "block2_pool (MaxPooling2D)   (None, 37, 37, 128)       0         \n",
            "_________________________________________________________________\n",
            "block3_conv1 (Conv2D)        (None, 37, 37, 256)       295168    \n",
            "_________________________________________________________________\n",
            "block3_conv2 (Conv2D)        (None, 37, 37, 256)       590080    \n",
            "_________________________________________________________________\n",
            "block3_conv3 (Conv2D)        (None, 37, 37, 256)       590080    \n",
            "_________________________________________________________________\n",
            "block3_conv4 (Conv2D)        (None, 37, 37, 256)       590080    \n",
            "_________________________________________________________________\n",
            "block3_pool (MaxPooling2D)   (None, 18, 18, 256)       0         \n",
            "_________________________________________________________________\n",
            "block4_conv1 (Conv2D)        (None, 18, 18, 512)       1180160   \n",
            "_________________________________________________________________\n",
            "block4_conv2 (Conv2D)        (None, 18, 18, 512)       2359808   \n",
            "_________________________________________________________________\n",
            "block4_conv3 (Conv2D)        (None, 18, 18, 512)       2359808   \n",
            "_________________________________________________________________\n",
            "block4_conv4 (Conv2D)        (None, 18, 18, 512)       2359808   \n",
            "_________________________________________________________________\n",
            "block4_pool (MaxPooling2D)   (None, 9, 9, 512)         0         \n",
            "_________________________________________________________________\n",
            "block5_conv1 (Conv2D)        (None, 9, 9, 512)         2359808   \n",
            "_________________________________________________________________\n",
            "block5_conv2 (Conv2D)        (None, 9, 9, 512)         2359808   \n",
            "_________________________________________________________________\n",
            "block5_conv3 (Conv2D)        (None, 9, 9, 512)         2359808   \n",
            "_________________________________________________________________\n",
            "block5_conv4 (Conv2D)        (None, 9, 9, 512)         2359808   \n",
            "_________________________________________________________________\n",
            "block5_pool (MaxPooling2D)   (None, 4, 4, 512)         0         \n",
            "=================================================================\n",
            "Total params: 20,024,384\n",
            "Trainable params: 20,024,384\n",
            "Non-trainable params: 0\n",
            "_________________________________________________________________\n",
            "Model: \"sequential\"\n",
            "_________________________________________________________________\n",
            "Layer (type)                 Output Shape              Param #   \n",
            "=================================================================\n",
            "vgg19 (Model)                (None, 4, 4, 512)         20024384  \n",
            "_________________________________________________________________\n",
            "flatten (Flatten)            (None, 8192)              0         \n",
            "_________________________________________________________________\n",
            "dense (Dense)                (None, 256)               2097408   \n",
            "_________________________________________________________________\n",
            "dropout (Dropout)            (None, 256)               0         \n",
            "_________________________________________________________________\n",
            "dense_1 (Dense)              (None, 512)               131584    \n",
            "_________________________________________________________________\n",
            "dropout_1 (Dropout)          (None, 512)               0         \n",
            "_________________________________________________________________\n",
            "dense_2 (Dense)              (None, 10)                5130      \n",
            "=================================================================\n",
            "Total params: 22,258,506\n",
            "Trainable params: 22,258,506\n",
            "Non-trainable params: 0\n",
            "_________________________________________________________________\n"
          ],
          "name": "stdout"
        }
      ]
    },
    {
      "cell_type": "code",
      "metadata": {
        "colab_type": "code",
        "outputId": "5444bdc1-178c-46d4-c2dd-09ee0c3a9f30",
        "id": "_SQqkKjxDxGS",
        "colab": {
          "base_uri": "https://localhost:8080/",
          "height": 1000
        }
      },
      "source": [
        "# Train the Model\n",
        "\n",
        "#data augmentation for train data\n",
        "train_datagen = ImageDataGenerator(\n",
        "      rescale=1./255,\n",
        "      rotation_range=40,\n",
        "      width_shift_range=0.2,\n",
        "      height_shift_range=0.2,\n",
        "      shear_range=0.2,\n",
        "      zoom_range=0.2,\n",
        "      horizontal_flip=True,\n",
        "      fill_mode='nearest')\n",
        "\n",
        "test_datagen = ImageDataGenerator(rescale=1./255)\n",
        "\n",
        "train_generator = train_datagen.flow_from_directory(\n",
        "        # This is the target directory\n",
        "        train_dir,\n",
        "        # All images will be resized to 150x150\n",
        "        target_size=(img_size, img_size),\n",
        "        batch_size=10,\n",
        "        # Since we use binary_crossentropy loss, we need binary labels\n",
        "        class_mode='categorical')\n",
        "validation_generator = test_datagen.flow_from_directory(\n",
        "        validation_dir,\n",
        "        target_size=(img_size, img_size),\n",
        "        batch_size=10,\n",
        "        class_mode='categorical')\n",
        "\n",
        "\n",
        "\n",
        "\n",
        "#compiling \n",
        "model2.compile(loss='categorical_crossentropy',\n",
        "              optimizer=optimizers.Adam(lr=2e-5),\n",
        "              metrics=['acc'])\n",
        "\n",
        "history2 = model2.fit_generator(\n",
        "      train_generator,\n",
        "      steps_per_epoch=750,\n",
        "      epochs=75,\n",
        "      validation_data=validation_generator,\n",
        "      validation_steps=200,\n",
        "      verbose=1)"
      ],
      "execution_count": 0,
      "outputs": [
        {
          "output_type": "stream",
          "text": [
            "Found 7500 images belonging to 10 classes.\n",
            "Found 2000 images belonging to 10 classes.\n",
            "WARNING:tensorflow:From <ipython-input-5-fc5732a5b1ea>:44: Model.fit_generator (from tensorflow.python.keras.engine.training) is deprecated and will be removed in a future version.\n",
            "Instructions for updating:\n",
            "Please use Model.fit, which supports generators.\n",
            "Epoch 1/75\n",
            "750/750 [==============================] - 122s 163ms/step - loss: 3.5124 - acc: 0.2549 - val_loss: 2.8035 - val_acc: 0.5140\n",
            "Epoch 2/75\n",
            "750/750 [==============================] - 125s 166ms/step - loss: 2.6940 - acc: 0.5196 - val_loss: 2.1584 - val_acc: 0.6915\n",
            "Epoch 3/75\n",
            "750/750 [==============================] - 125s 167ms/step - loss: 2.2757 - acc: 0.6520 - val_loss: 1.8822 - val_acc: 0.7615\n",
            "Epoch 4/75\n",
            "750/750 [==============================] - 126s 168ms/step - loss: 2.0293 - acc: 0.7188 - val_loss: 1.6853 - val_acc: 0.8055\n",
            "Epoch 5/75\n",
            "750/750 [==============================] - 125s 167ms/step - loss: 1.8847 - acc: 0.7505 - val_loss: 1.7852 - val_acc: 0.7705\n",
            "Epoch 6/75\n",
            "750/750 [==============================] - 125s 167ms/step - loss: 1.7442 - acc: 0.7804 - val_loss: 1.5925 - val_acc: 0.8035\n",
            "Epoch 7/75\n",
            "750/750 [==============================] - 125s 167ms/step - loss: 1.6468 - acc: 0.7977 - val_loss: 1.5155 - val_acc: 0.8185\n",
            "Epoch 8/75\n",
            "750/750 [==============================] - 125s 167ms/step - loss: 1.5571 - acc: 0.8128 - val_loss: 1.5182 - val_acc: 0.8275\n",
            "Epoch 9/75\n",
            "750/750 [==============================] - 125s 167ms/step - loss: 1.4614 - acc: 0.8320 - val_loss: 1.3796 - val_acc: 0.8420\n",
            "Epoch 10/75\n",
            "750/750 [==============================] - 125s 167ms/step - loss: 1.3974 - acc: 0.8387 - val_loss: 1.3929 - val_acc: 0.8385\n",
            "Epoch 11/75\n",
            "750/750 [==============================] - 125s 167ms/step - loss: 1.3243 - acc: 0.8549 - val_loss: 1.3500 - val_acc: 0.8295\n",
            "Epoch 12/75\n",
            "750/750 [==============================] - 125s 166ms/step - loss: 1.2885 - acc: 0.8551 - val_loss: 1.3342 - val_acc: 0.8365\n",
            "Epoch 13/75\n",
            "750/750 [==============================] - 125s 166ms/step - loss: 1.2243 - acc: 0.8683 - val_loss: 1.3789 - val_acc: 0.8315\n",
            "Epoch 14/75\n",
            "750/750 [==============================] - 125s 166ms/step - loss: 1.1611 - acc: 0.8792 - val_loss: 1.2467 - val_acc: 0.8545\n",
            "Epoch 15/75\n",
            "750/750 [==============================] - 125s 166ms/step - loss: 1.1264 - acc: 0.8891 - val_loss: 1.2476 - val_acc: 0.8500\n",
            "Epoch 16/75\n",
            "750/750 [==============================] - 125s 166ms/step - loss: 1.0838 - acc: 0.8897 - val_loss: 1.1890 - val_acc: 0.8620\n",
            "Epoch 17/75\n",
            "750/750 [==============================] - 125s 166ms/step - loss: 1.0290 - acc: 0.9013 - val_loss: 1.2467 - val_acc: 0.8380\n",
            "Epoch 18/75\n",
            "750/750 [==============================] - 125s 167ms/step - loss: 0.9956 - acc: 0.9063 - val_loss: 1.3961 - val_acc: 0.8145\n",
            "Epoch 19/75\n",
            "750/750 [==============================] - 125s 166ms/step - loss: 0.9540 - acc: 0.9093 - val_loss: 1.2094 - val_acc: 0.8545\n",
            "Epoch 20/75\n",
            "750/750 [==============================] - 125s 166ms/step - loss: 0.9182 - acc: 0.9167 - val_loss: 1.2574 - val_acc: 0.8360\n",
            "Epoch 21/75\n",
            "750/750 [==============================] - 125s 167ms/step - loss: 0.8910 - acc: 0.9147 - val_loss: 1.2320 - val_acc: 0.8425\n",
            "Epoch 22/75\n",
            "750/750 [==============================] - 125s 166ms/step - loss: 0.8633 - acc: 0.9184 - val_loss: 1.0904 - val_acc: 0.8670\n",
            "Epoch 23/75\n",
            "750/750 [==============================] - 125s 166ms/step - loss: 0.8146 - acc: 0.9285 - val_loss: 1.2304 - val_acc: 0.8445\n",
            "Epoch 24/75\n",
            "750/750 [==============================] - 125s 166ms/step - loss: 0.8010 - acc: 0.9281 - val_loss: 1.0699 - val_acc: 0.8480\n",
            "Epoch 25/75\n",
            "750/750 [==============================] - 125s 166ms/step - loss: 0.7564 - acc: 0.9367 - val_loss: 1.1417 - val_acc: 0.8445\n",
            "Epoch 26/75\n",
            "750/750 [==============================] - 125s 166ms/step - loss: 0.7377 - acc: 0.9356 - val_loss: 1.1258 - val_acc: 0.8490\n",
            "Epoch 27/75\n",
            "750/750 [==============================] - 125s 166ms/step - loss: 0.7103 - acc: 0.9364 - val_loss: 1.1610 - val_acc: 0.8385\n",
            "Epoch 28/75\n",
            "750/750 [==============================] - 125s 166ms/step - loss: 0.6791 - acc: 0.9431 - val_loss: 1.0905 - val_acc: 0.8465\n",
            "Epoch 29/75\n",
            "750/750 [==============================] - 125s 167ms/step - loss: 0.6655 - acc: 0.9421 - val_loss: 1.1081 - val_acc: 0.8620\n",
            "Epoch 30/75\n",
            "750/750 [==============================] - 125s 166ms/step - loss: 0.6503 - acc: 0.9415 - val_loss: 1.1058 - val_acc: 0.8475\n",
            "Epoch 31/75\n",
            "750/750 [==============================] - 125s 166ms/step - loss: 0.6082 - acc: 0.9496 - val_loss: 1.2129 - val_acc: 0.8420\n",
            "Epoch 32/75\n",
            "750/750 [==============================] - 125s 167ms/step - loss: 0.6061 - acc: 0.9468 - val_loss: 1.0572 - val_acc: 0.8510\n",
            "Epoch 33/75\n",
            "750/750 [==============================] - 125s 167ms/step - loss: 0.5775 - acc: 0.9508 - val_loss: 1.0497 - val_acc: 0.8420\n",
            "Epoch 34/75\n",
            "750/750 [==============================] - 125s 167ms/step - loss: 0.5666 - acc: 0.9523 - val_loss: 1.0574 - val_acc: 0.8405\n",
            "Epoch 35/75\n",
            "750/750 [==============================] - 125s 167ms/step - loss: 0.5400 - acc: 0.9549 - val_loss: 0.8854 - val_acc: 0.8795\n",
            "Epoch 36/75\n",
            "750/750 [==============================] - 125s 167ms/step - loss: 0.5223 - acc: 0.9569 - val_loss: 0.9479 - val_acc: 0.8500\n",
            "Epoch 37/75\n",
            "750/750 [==============================] - 125s 166ms/step - loss: 0.5055 - acc: 0.9608 - val_loss: 1.1825 - val_acc: 0.8525\n",
            "Epoch 38/75\n",
            "750/750 [==============================] - 125s 167ms/step - loss: 0.4892 - acc: 0.9572 - val_loss: 0.9806 - val_acc: 0.8545\n",
            "Epoch 39/75\n",
            "750/750 [==============================] - 125s 167ms/step - loss: 0.4714 - acc: 0.9597 - val_loss: 0.9176 - val_acc: 0.8640\n",
            "Epoch 40/75\n",
            "750/750 [==============================] - 125s 166ms/step - loss: 0.4735 - acc: 0.9585 - val_loss: 1.2475 - val_acc: 0.8010\n",
            "Epoch 41/75\n",
            "750/750 [==============================] - 125s 166ms/step - loss: 0.4380 - acc: 0.9637 - val_loss: 0.9995 - val_acc: 0.8665\n",
            "Epoch 42/75\n",
            "750/750 [==============================] - 125s 166ms/step - loss: 0.4374 - acc: 0.9631 - val_loss: 0.9505 - val_acc: 0.8750\n",
            "Epoch 43/75\n",
            "750/750 [==============================] - 125s 167ms/step - loss: 0.4168 - acc: 0.9625 - val_loss: 0.9917 - val_acc: 0.8585\n",
            "Epoch 44/75\n",
            "750/750 [==============================] - 125s 166ms/step - loss: 0.4156 - acc: 0.9617 - val_loss: 1.0793 - val_acc: 0.8350\n",
            "Epoch 45/75\n",
            "750/750 [==============================] - 125s 167ms/step - loss: 0.4163 - acc: 0.9588 - val_loss: 0.9144 - val_acc: 0.8615\n",
            "Epoch 46/75\n",
            "750/750 [==============================] - 125s 167ms/step - loss: 0.3732 - acc: 0.9704 - val_loss: 0.8491 - val_acc: 0.8695\n",
            "Epoch 47/75\n",
            "750/750 [==============================] - 125s 167ms/step - loss: 0.3580 - acc: 0.9715 - val_loss: 0.9357 - val_acc: 0.8615\n",
            "Epoch 48/75\n",
            "750/750 [==============================] - 125s 167ms/step - loss: 0.3596 - acc: 0.9683 - val_loss: 0.9769 - val_acc: 0.8500\n",
            "Epoch 49/75\n",
            "750/750 [==============================] - 125s 167ms/step - loss: 0.3554 - acc: 0.9667 - val_loss: 0.9033 - val_acc: 0.8770\n",
            "Epoch 50/75\n",
            "750/750 [==============================] - 125s 167ms/step - loss: 0.3352 - acc: 0.9709 - val_loss: 0.8760 - val_acc: 0.8665\n",
            "Epoch 51/75\n",
            "750/750 [==============================] - 125s 167ms/step - loss: 0.3337 - acc: 0.9708 - val_loss: 0.9139 - val_acc: 0.8635\n",
            "Epoch 52/75\n",
            "750/750 [==============================] - 125s 167ms/step - loss: 0.3296 - acc: 0.9687 - val_loss: 0.8310 - val_acc: 0.8605\n",
            "Epoch 53/75\n",
            "750/750 [==============================] - 125s 167ms/step - loss: 0.3173 - acc: 0.9729 - val_loss: 0.8771 - val_acc: 0.8720\n",
            "Epoch 54/75\n",
            "750/750 [==============================] - 125s 167ms/step - loss: 0.2976 - acc: 0.9748 - val_loss: 0.9206 - val_acc: 0.8465\n",
            "Epoch 55/75\n",
            "750/750 [==============================] - 125s 166ms/step - loss: 0.3117 - acc: 0.9691 - val_loss: 0.8943 - val_acc: 0.8490\n",
            "Epoch 56/75\n",
            "750/750 [==============================] - 125s 167ms/step - loss: 0.2817 - acc: 0.9763 - val_loss: 1.0439 - val_acc: 0.8380\n",
            "Epoch 57/75\n",
            "750/750 [==============================] - 125s 167ms/step - loss: 0.2793 - acc: 0.9725 - val_loss: 0.9748 - val_acc: 0.8630\n",
            "Epoch 58/75\n",
            "750/750 [==============================] - 125s 166ms/step - loss: 0.2896 - acc: 0.9713 - val_loss: 0.8743 - val_acc: 0.8580\n",
            "Epoch 59/75\n",
            "750/750 [==============================] - 125s 166ms/step - loss: 0.2700 - acc: 0.9729 - val_loss: 1.0427 - val_acc: 0.8390\n",
            "Epoch 60/75\n",
            "750/750 [==============================] - 125s 167ms/step - loss: 0.2581 - acc: 0.9760 - val_loss: 0.9634 - val_acc: 0.8400\n",
            "Epoch 61/75\n",
            "750/750 [==============================] - 125s 166ms/step - loss: 0.2570 - acc: 0.9745 - val_loss: 0.8670 - val_acc: 0.8625\n",
            "Epoch 62/75\n",
            "750/750 [==============================] - 125s 167ms/step - loss: 0.2564 - acc: 0.9751 - val_loss: 1.0380 - val_acc: 0.8435\n",
            "Epoch 63/75\n",
            "750/750 [==============================] - 125s 166ms/step - loss: 0.2360 - acc: 0.9807 - val_loss: 0.8261 - val_acc: 0.8655\n",
            "Epoch 64/75\n",
            "750/750 [==============================] - 125s 166ms/step - loss: 0.2369 - acc: 0.9765 - val_loss: 0.8839 - val_acc: 0.8505\n",
            "Epoch 65/75\n",
            "750/750 [==============================] - 125s 166ms/step - loss: 0.2350 - acc: 0.9781 - val_loss: 0.8680 - val_acc: 0.8680\n",
            "Epoch 66/75\n",
            "750/750 [==============================] - 125s 167ms/step - loss: 0.2336 - acc: 0.9763 - val_loss: 1.0023 - val_acc: 0.8500\n",
            "Epoch 67/75\n",
            "750/750 [==============================] - 125s 166ms/step - loss: 0.2105 - acc: 0.9812 - val_loss: 0.9501 - val_acc: 0.8450\n",
            "Epoch 68/75\n",
            "750/750 [==============================] - 125s 166ms/step - loss: 0.2164 - acc: 0.9793 - val_loss: 0.8147 - val_acc: 0.8570\n",
            "Epoch 69/75\n",
            "750/750 [==============================] - 125s 166ms/step - loss: 0.2054 - acc: 0.9793 - val_loss: 0.9953 - val_acc: 0.8315\n",
            "Epoch 70/75\n",
            "750/750 [==============================] - 125s 166ms/step - loss: 0.2166 - acc: 0.9745 - val_loss: 0.8357 - val_acc: 0.8630\n",
            "Epoch 71/75\n",
            "750/750 [==============================] - 125s 166ms/step - loss: 0.1964 - acc: 0.9803 - val_loss: 0.9190 - val_acc: 0.8580\n",
            "Epoch 72/75\n",
            "750/750 [==============================] - 125s 166ms/step - loss: 0.1955 - acc: 0.9785 - val_loss: 0.9395 - val_acc: 0.8425\n",
            "Epoch 73/75\n",
            "750/750 [==============================] - 125s 167ms/step - loss: 0.1813 - acc: 0.9844 - val_loss: 1.0151 - val_acc: 0.8410\n",
            "Epoch 74/75\n",
            "750/750 [==============================] - 125s 166ms/step - loss: 0.1864 - acc: 0.9795 - val_loss: 0.9471 - val_acc: 0.8520\n",
            "Epoch 75/75\n",
            "750/750 [==============================] - 125s 166ms/step - loss: 0.1904 - acc: 0.9772 - val_loss: 0.8888 - val_acc: 0.8560\n"
          ],
          "name": "stdout"
        }
      ]
    },
    {
      "cell_type": "code",
      "metadata": {
        "colab_type": "code",
        "outputId": "3657ba2b-121a-4d36-b467-c86f5d575ad8",
        "id": "zLjghF4DDxGT",
        "colab": {
          "base_uri": "https://localhost:8080/",
          "height": 650
        }
      },
      "source": [
        "# Plot the Training and Validation Accuracy & Loss Scores\n",
        "acc2 = history2.history['acc']\n",
        "val_acc2 = history2.history['val_acc']\n",
        "loss2 = history2.history['loss']\n",
        "val_loss2 = history2.history['val_loss']\n",
        "\n",
        "epochs2 = range(len(acc2))\n",
        "\n",
        "plt.plot(epochs2, acc2, 'bo', label='Training acc')\n",
        "plt.plot(epochs2, val_acc2, 'b', label='Validation acc')\n",
        "plt.title('Training and validation accuracy')\n",
        "plt.legend()\n",
        "\n",
        "plt.figure()\n",
        "\n",
        "plt.plot(epochs2, loss2, 'bo', label='Training loss')\n",
        "plt.plot(epochs2, val_loss2, 'b', label='Validation loss')\n",
        "plt.title('Training and validation loss')\n",
        "plt.legend()\n",
        "\n",
        "plt.show()\n",
        "\n",
        "\n",
        "test_generator = test_datagen.flow_from_directory(\n",
        "        test_dir,\n",
        "        target_size=(img_size, img_size),\n",
        "        batch_size=25,\n",
        "        class_mode='categorical')\n",
        "test_loss, test_acc = model2.evaluate_generator(test_generator, steps=20)\n",
        "print('test acc:', test_acc)"
      ],
      "execution_count": 0,
      "outputs": [
        {
          "output_type": "display_data",
          "data": {
            "image/png": "[encoded data removed]",
            "text/plain": [
              "<Figure size 432x288 with 1 Axes>"
            ]
          },
          "metadata": {
            "tags": [],
            "needs_background": "light"
          }
        },
        {
          "output_type": "display_data",
          "data": {
            "image/png": "[encoded data removed]",
            "text/plain": [
              "<Figure size 432x288 with 1 Axes>"
            ]
          },
          "metadata": {
            "tags": [],
            "needs_background": "light"
          }
        },
        {
          "output_type": "stream",
          "text": [
            "Found 500 images belonging to 10 classes.\n",
            "WARNING:tensorflow:From <ipython-input-6-a7dcf169d6b0>:29: Model.evaluate_generator (from tensorflow.python.keras.engine.training) is deprecated and will be removed in a future version.\n",
            "Instructions for updating:\n",
            "Please use Model.evaluate, which supports generators.\n",
            "test acc: 0.8659999966621399\n"
          ],
          "name": "stdout"
        }
      ]
    },
    {
      "cell_type": "code",
      "metadata": {
        "colab_type": "code",
        "id": "tdOymfPaDxGV",
        "colab": {}
      },
      "source": [
        "# Save the Model to google drive\n",
        "model2.save(model_path+'food_model_(VGG19_unfrozen)_Adam_regularizer_v2.h5')\n",
        "model2.save('food_model_(VGG19_unfrozen)_Adam_regularizer_v2_backup.h5')"
      ],
      "execution_count": 0,
      "outputs": []
    },
    {
      "cell_type": "markdown",
      "metadata": {
        "id": "yAYtkE3AGqCS",
        "colab_type": "text"
      },
      "source": [
        "### Model #4 (Pre-train - MobileNet)"
      ]
    },
    {
      "cell_type": "code",
      "metadata": {
        "id": "S1llNQ7NG0GK",
        "colab_type": "code",
        "outputId": "9daa8172-832d-4bb7-8cb1-828cfbfb0c71",
        "colab": {
          "base_uri": "https://localhost:8080/",
          "height": 1000
        }
      },
      "source": [
        "# Build the Model\n",
        "from tensorflow.keras.applications import MobileNet\n",
        "import os\n",
        "import numpy as np\n",
        "from tensorflow.keras.preprocessing.image import ImageDataGenerator\n",
        "from tensorflow.keras import models\n",
        "from tensorflow.keras import layers\n",
        "from tensorflow.keras import optimizers\n",
        "from tensorflow.keras import regularizers\n",
        "import matplotlib.pyplot as plt\n",
        "%matplotlib inline\n",
        "\n",
        "img_size = 150\n",
        "\n",
        "#MobileNet convbase\n",
        "conv_base2 = MobileNet(weights='imagenet',\n",
        "                  include_top=False,\n",
        "                  input_shape=(img_size, img_size, 3))\n",
        "\n",
        "#unfreezing layers \n",
        "conv_base2.trainable = True\n",
        "\n",
        "model2 = models.Sequential()\n",
        "model2.add(conv_base2) #MobileNet pre-train\n",
        "model2.add(layers.Flatten())\n",
        "model2.add(layers.Dense(256, kernel_regularizer=regularizers.l2(0.001), activation='relu'))\n",
        "model2.add(layers.Dropout(0.5))\n",
        "model2.add(layers.Dense(512, kernel_regularizer=regularizers.l2(0.001), activation='relu'))\n",
        "model2.add(layers.Dropout(0.5))\n",
        "model2.add(layers.Dense(10, activation='softmax'))\n",
        "\n",
        "\n",
        "conv_base2.summary()\n",
        "model2.summary()"
      ],
      "execution_count": 0,
      "outputs": [
        {
          "output_type": "stream",
          "text": [
            "WARNING:tensorflow:`input_shape` is undefined or non-square, or `rows` is not in [128, 160, 192, 224]. Weights for input shape (224, 224) will be loaded as the default.\n",
            "Model: \"mobilenet_1.00_224\"\n",
            "_________________________________________________________________\n",
            "Layer (type)                 Output Shape              Param #   \n",
            "=================================================================\n",
            "input_2 (InputLayer)         [(None, 150, 150, 3)]     0         \n",
            "_________________________________________________________________\n",
            "conv1_pad (ZeroPadding2D)    (None, 151, 151, 3)       0         \n",
            "_________________________________________________________________\n",
            "conv1 (Conv2D)               (None, 75, 75, 32)        864       \n",
            "_________________________________________________________________\n",
            "conv1_bn (BatchNormalization (None, 75, 75, 32)        128       \n",
            "_________________________________________________________________\n",
            "conv1_relu (ReLU)            (None, 75, 75, 32)        0         \n",
            "_________________________________________________________________\n",
            "conv_dw_1 (DepthwiseConv2D)  (None, 75, 75, 32)        288       \n",
            "_________________________________________________________________\n",
            "conv_dw_1_bn (BatchNormaliza (None, 75, 75, 32)        128       \n",
            "_________________________________________________________________\n",
            "conv_dw_1_relu (ReLU)        (None, 75, 75, 32)        0         \n",
            "_________________________________________________________________\n",
            "conv_pw_1 (Conv2D)           (None, 75, 75, 64)        2048      \n",
            "_________________________________________________________________\n",
            "conv_pw_1_bn (BatchNormaliza (None, 75, 75, 64)        256       \n",
            "_________________________________________________________________\n",
            "conv_pw_1_relu (ReLU)        (None, 75, 75, 64)        0         \n",
            "_________________________________________________________________\n",
            "conv_pad_2 (ZeroPadding2D)   (None, 76, 76, 64)        0         \n",
            "_________________________________________________________________\n",
            "conv_dw_2 (DepthwiseConv2D)  (None, 37, 37, 64)        576       \n",
            "_________________________________________________________________\n",
            "conv_dw_2_bn (BatchNormaliza (None, 37, 37, 64)        256       \n",
            "_________________________________________________________________\n",
            "conv_dw_2_relu (ReLU)        (None, 37, 37, 64)        0         \n",
            "_________________________________________________________________\n",
            "conv_pw_2 (Conv2D)           (None, 37, 37, 128)       8192      \n",
            "_________________________________________________________________\n",
            "conv_pw_2_bn (BatchNormaliza (None, 37, 37, 128)       512       \n",
            "_________________________________________________________________\n",
            "conv_pw_2_relu (ReLU)        (None, 37, 37, 128)       0         \n",
            "_________________________________________________________________\n",
            "conv_dw_3 (DepthwiseConv2D)  (None, 37, 37, 128)       1152      \n",
            "_________________________________________________________________\n",
            "conv_dw_3_bn (BatchNormaliza (None, 37, 37, 128)       512       \n",
            "_________________________________________________________________\n",
            "conv_dw_3_relu (ReLU)        (None, 37, 37, 128)       0         \n",
            "_________________________________________________________________\n",
            "conv_pw_3 (Conv2D)           (None, 37, 37, 128)       16384     \n",
            "_________________________________________________________________\n",
            "conv_pw_3_bn (BatchNormaliza (None, 37, 37, 128)       512       \n",
            "_________________________________________________________________\n",
            "conv_pw_3_relu (ReLU)        (None, 37, 37, 128)       0         \n",
            "_________________________________________________________________\n",
            "conv_pad_4 (ZeroPadding2D)   (None, 38, 38, 128)       0         \n",
            "_________________________________________________________________\n",
            "conv_dw_4 (DepthwiseConv2D)  (None, 18, 18, 128)       1152      \n",
            "_________________________________________________________________\n",
            "conv_dw_4_bn (BatchNormaliza (None, 18, 18, 128)       512       \n",
            "_________________________________________________________________\n",
            "conv_dw_4_relu (ReLU)        (None, 18, 18, 128)       0         \n",
            "_________________________________________________________________\n",
            "conv_pw_4 (Conv2D)           (None, 18, 18, 256)       32768     \n",
            "_________________________________________________________________\n",
            "conv_pw_4_bn (BatchNormaliza (None, 18, 18, 256)       1024      \n",
            "_________________________________________________________________\n",
            "conv_pw_4_relu (ReLU)        (None, 18, 18, 256)       0         \n",
            "_________________________________________________________________\n",
            "conv_dw_5 (DepthwiseConv2D)  (None, 18, 18, 256)       2304      \n",
            "_________________________________________________________________\n",
            "conv_dw_5_bn (BatchNormaliza (None, 18, 18, 256)       1024      \n",
            "_________________________________________________________________\n",
            "conv_dw_5_relu (ReLU)        (None, 18, 18, 256)       0         \n",
            "_________________________________________________________________\n",
            "conv_pw_5 (Conv2D)           (None, 18, 18, 256)       65536     \n",
            "_________________________________________________________________\n",
            "conv_pw_5_bn (BatchNormaliza (None, 18, 18, 256)       1024      \n",
            "_________________________________________________________________\n",
            "conv_pw_5_relu (ReLU)        (None, 18, 18, 256)       0         \n",
            "_________________________________________________________________\n",
            "conv_pad_6 (ZeroPadding2D)   (None, 19, 19, 256)       0         \n",
            "_________________________________________________________________\n",
            "conv_dw_6 (DepthwiseConv2D)  (None, 9, 9, 256)         2304      \n",
            "_________________________________________________________________\n",
            "conv_dw_6_bn (BatchNormaliza (None, 9, 9, 256)         1024      \n",
            "_________________________________________________________________\n",
            "conv_dw_6_relu (ReLU)        (None, 9, 9, 256)         0         \n",
            "_________________________________________________________________\n",
            "conv_pw_6 (Conv2D)           (None, 9, 9, 512)         131072    \n",
            "_________________________________________________________________\n",
            "conv_pw_6_bn (BatchNormaliza (None, 9, 9, 512)         2048      \n",
            "_________________________________________________________________\n",
            "conv_pw_6_relu (ReLU)        (None, 9, 9, 512)         0         \n",
            "_________________________________________________________________\n",
            "conv_dw_7 (DepthwiseConv2D)  (None, 9, 9, 512)         4608      \n",
            "_________________________________________________________________\n",
            "conv_dw_7_bn (BatchNormaliza (None, 9, 9, 512)         2048      \n",
            "_________________________________________________________________\n",
            "conv_dw_7_relu (ReLU)        (None, 9, 9, 512)         0         \n",
            "_________________________________________________________________\n",
            "conv_pw_7 (Conv2D)           (None, 9, 9, 512)         262144    \n",
            "_________________________________________________________________\n",
            "conv_pw_7_bn (BatchNormaliza (None, 9, 9, 512)         2048      \n",
            "_________________________________________________________________\n",
            "conv_pw_7_relu (ReLU)        (None, 9, 9, 512)         0         \n",
            "_________________________________________________________________\n",
            "conv_dw_8 (DepthwiseConv2D)  (None, 9, 9, 512)         4608      \n",
            "_________________________________________________________________\n",
            "conv_dw_8_bn (BatchNormaliza (None, 9, 9, 512)         2048      \n",
            "_________________________________________________________________\n",
            "conv_dw_8_relu (ReLU)        (None, 9, 9, 512)         0         \n",
            "_________________________________________________________________\n",
            "conv_pw_8 (Conv2D)           (None, 9, 9, 512)         262144    \n",
            "_________________________________________________________________\n",
            "conv_pw_8_bn (BatchNormaliza (None, 9, 9, 512)         2048      \n",
            "_________________________________________________________________\n",
            "conv_pw_8_relu (ReLU)        (None, 9, 9, 512)         0         \n",
            "_________________________________________________________________\n",
            "conv_dw_9 (DepthwiseConv2D)  (None, 9, 9, 512)         4608      \n",
            "_________________________________________________________________\n",
            "conv_dw_9_bn (BatchNormaliza (None, 9, 9, 512)         2048      \n",
            "_________________________________________________________________\n",
            "conv_dw_9_relu (ReLU)        (None, 9, 9, 512)         0         \n",
            "_________________________________________________________________\n",
            "conv_pw_9 (Conv2D)           (None, 9, 9, 512)         262144    \n",
            "_________________________________________________________________\n",
            "conv_pw_9_bn (BatchNormaliza (None, 9, 9, 512)         2048      \n",
            "_________________________________________________________________\n",
            "conv_pw_9_relu (ReLU)        (None, 9, 9, 512)         0         \n",
            "_________________________________________________________________\n",
            "conv_dw_10 (DepthwiseConv2D) (None, 9, 9, 512)         4608      \n",
            "_________________________________________________________________\n",
            "conv_dw_10_bn (BatchNormaliz (None, 9, 9, 512)         2048      \n",
            "_________________________________________________________________\n",
            "conv_dw_10_relu (ReLU)       (None, 9, 9, 512)         0         \n",
            "_________________________________________________________________\n",
            "conv_pw_10 (Conv2D)          (None, 9, 9, 512)         262144    \n",
            "_________________________________________________________________\n",
            "conv_pw_10_bn (BatchNormaliz (None, 9, 9, 512)         2048      \n",
            "_________________________________________________________________\n",
            "conv_pw_10_relu (ReLU)       (None, 9, 9, 512)         0         \n",
            "_________________________________________________________________\n",
            "conv_dw_11 (DepthwiseConv2D) (None, 9, 9, 512)         4608      \n",
            "_________________________________________________________________\n",
            "conv_dw_11_bn (BatchNormaliz (None, 9, 9, 512)         2048      \n",
            "_________________________________________________________________\n",
            "conv_dw_11_relu (ReLU)       (None, 9, 9, 512)         0         \n",
            "_________________________________________________________________\n",
            "conv_pw_11 (Conv2D)          (None, 9, 9, 512)         262144    \n",
            "_________________________________________________________________\n",
            "conv_pw_11_bn (BatchNormaliz (None, 9, 9, 512)         2048      \n",
            "_________________________________________________________________\n",
            "conv_pw_11_relu (ReLU)       (None, 9, 9, 512)         0         \n",
            "_________________________________________________________________\n",
            "conv_pad_12 (ZeroPadding2D)  (None, 10, 10, 512)       0         \n",
            "_________________________________________________________________\n",
            "conv_dw_12 (DepthwiseConv2D) (None, 4, 4, 512)         4608      \n",
            "_________________________________________________________________\n",
            "conv_dw_12_bn (BatchNormaliz (None, 4, 4, 512)         2048      \n",
            "_________________________________________________________________\n",
            "conv_dw_12_relu (ReLU)       (None, 4, 4, 512)         0         \n",
            "_________________________________________________________________\n",
            "conv_pw_12 (Conv2D)          (None, 4, 4, 1024)        524288    \n",
            "_________________________________________________________________\n",
            "conv_pw_12_bn (BatchNormaliz (None, 4, 4, 1024)        4096      \n",
            "_________________________________________________________________\n",
            "conv_pw_12_relu (ReLU)       (None, 4, 4, 1024)        0         \n",
            "_________________________________________________________________\n",
            "conv_dw_13 (DepthwiseConv2D) (None, 4, 4, 1024)        9216      \n",
            "_________________________________________________________________\n",
            "conv_dw_13_bn (BatchNormaliz (None, 4, 4, 1024)        4096      \n",
            "_________________________________________________________________\n",
            "conv_dw_13_relu (ReLU)       (None, 4, 4, 1024)        0         \n",
            "_________________________________________________________________\n",
            "conv_pw_13 (Conv2D)          (None, 4, 4, 1024)        1048576   \n",
            "_________________________________________________________________\n",
            "conv_pw_13_bn (BatchNormaliz (None, 4, 4, 1024)        4096      \n",
            "_________________________________________________________________\n",
            "conv_pw_13_relu (ReLU)       (None, 4, 4, 1024)        0         \n",
            "=================================================================\n",
            "Total params: 3,228,864\n",
            "Trainable params: 3,206,976\n",
            "Non-trainable params: 21,888\n",
            "_________________________________________________________________\n",
            "Model: \"sequential_1\"\n",
            "_________________________________________________________________\n",
            "Layer (type)                 Output Shape              Param #   \n",
            "=================================================================\n",
            "mobilenet_1.00_224 (Model)   (None, 4, 4, 1024)        3228864   \n",
            "_________________________________________________________________\n",
            "flatten_1 (Flatten)          (None, 16384)             0         \n",
            "_________________________________________________________________\n",
            "dense_3 (Dense)              (None, 256)               4194560   \n",
            "_________________________________________________________________\n",
            "dropout_2 (Dropout)          (None, 256)               0         \n",
            "_________________________________________________________________\n",
            "dense_4 (Dense)              (None, 512)               131584    \n",
            "_________________________________________________________________\n",
            "dropout_3 (Dropout)          (None, 512)               0         \n",
            "_________________________________________________________________\n",
            "dense_5 (Dense)              (None, 10)                5130      \n",
            "=================================================================\n",
            "Total params: 7,560,138\n",
            "Trainable params: 7,538,250\n",
            "Non-trainable params: 21,888\n",
            "_________________________________________________________________\n"
          ],
          "name": "stdout"
        }
      ]
    },
    {
      "cell_type": "code",
      "metadata": {
        "id": "tI_33Ie7G0NE",
        "colab_type": "code",
        "outputId": "96bef11b-babd-4c02-ba41-4caf0ca0cfee",
        "colab": {
          "base_uri": "https://localhost:8080/",
          "height": 1000
        }
      },
      "source": [
        "# Train the Model\n",
        "\n",
        "#data augmentation for train data\n",
        "train_datagen = ImageDataGenerator(\n",
        "      rescale=1./255,\n",
        "      rotation_range=40,\n",
        "      width_shift_range=0.2,\n",
        "      height_shift_range=0.2,\n",
        "      shear_range=0.2,\n",
        "      zoom_range=0.2,\n",
        "      horizontal_flip=True,\n",
        "      fill_mode='nearest')\n",
        "\n",
        "test_datagen = ImageDataGenerator(rescale=1./255)\n",
        "\n",
        "train_generator = train_datagen.flow_from_directory(\n",
        "        # This is the target directory\n",
        "        train_dir,\n",
        "        # All images will be resized to 150x150\n",
        "        target_size=(img_size, img_size),\n",
        "        batch_size=10,\n",
        "        # Since we use binary_crossentropy loss, we need binary labels\n",
        "        class_mode='categorical')\n",
        "validation_generator = test_datagen.flow_from_directory(\n",
        "        validation_dir,\n",
        "        target_size=(img_size, img_size),\n",
        "        batch_size=10,\n",
        "        class_mode='categorical')\n",
        "\n",
        "\n",
        "\n",
        "\n",
        "#compiling \n",
        "model2.compile(loss='categorical_crossentropy',\n",
        "              optimizer=optimizers.RMSprop(lr=0.0001),\n",
        "              metrics=['acc'])\n",
        "\n",
        "history2 = model2.fit_generator(\n",
        "      train_generator,\n",
        "      steps_per_epoch=750,\n",
        "      epochs=30,\n",
        "      validation_data=validation_generator,\n",
        "      validation_steps=200,\n",
        "      verbose=1)"
      ],
      "execution_count": 0,
      "outputs": [
        {
          "output_type": "stream",
          "text": [
            "Found 7500 images belonging to 10 classes.\n",
            "Found 2000 images belonging to 10 classes.\n",
            "WARNING:tensorflow:From <ipython-input-6-f90b8dba6666>:44: Model.fit_generator (from tensorflow.python.keras.engine.training) is deprecated and will be removed in a future version.\n",
            "Instructions for updating:\n",
            "Please use Model.fit, which supports generators.\n",
            "Epoch 1/30\n",
            "750/750 [==============================] - 87s 116ms/step - loss: 2.6220 - acc: 0.3268 - val_loss: 1.2736 - val_acc: 0.6905\n",
            "Epoch 2/30\n",
            "750/750 [==============================] - 86s 115ms/step - loss: 1.7136 - acc: 0.5588 - val_loss: 1.0261 - val_acc: 0.7520\n",
            "Epoch 3/30\n",
            "750/750 [==============================] - 86s 114ms/step - loss: 1.4258 - acc: 0.6381 - val_loss: 0.9009 - val_acc: 0.7885\n",
            "Epoch 4/30\n",
            "750/750 [==============================] - 86s 115ms/step - loss: 1.2348 - acc: 0.6839 - val_loss: 0.8819 - val_acc: 0.7980\n",
            "Epoch 5/30\n",
            "750/750 [==============================] - 85s 114ms/step - loss: 1.1306 - acc: 0.7101 - val_loss: 0.7178 - val_acc: 0.8165\n",
            "Epoch 6/30\n",
            "750/750 [==============================] - 86s 114ms/step - loss: 1.0366 - acc: 0.7283 - val_loss: 0.6909 - val_acc: 0.8335\n",
            "Epoch 7/30\n",
            "750/750 [==============================] - 85s 113ms/step - loss: 0.9763 - acc: 0.7387 - val_loss: 0.8142 - val_acc: 0.8175\n",
            "Epoch 8/30\n",
            "750/750 [==============================] - 85s 113ms/step - loss: 0.9384 - acc: 0.7483 - val_loss: 0.7527 - val_acc: 0.8285\n",
            "Epoch 9/30\n",
            "750/750 [==============================] - 85s 113ms/step - loss: 0.8663 - acc: 0.7641 - val_loss: 0.7959 - val_acc: 0.8225\n",
            "Epoch 10/30\n",
            "750/750 [==============================] - 84s 112ms/step - loss: 0.8562 - acc: 0.7752 - val_loss: 0.6754 - val_acc: 0.8475\n",
            "Epoch 11/30\n",
            "750/750 [==============================] - 84s 112ms/step - loss: 0.8241 - acc: 0.7785 - val_loss: 0.7266 - val_acc: 0.8440\n",
            "Epoch 12/30\n",
            "750/750 [==============================] - 84s 112ms/step - loss: 0.8120 - acc: 0.7827 - val_loss: 0.7109 - val_acc: 0.8470\n",
            "Epoch 13/30\n",
            "750/750 [==============================] - 82s 110ms/step - loss: 0.7534 - acc: 0.7989 - val_loss: 0.7373 - val_acc: 0.8335\n",
            "Epoch 14/30\n",
            "750/750 [==============================] - 81s 107ms/step - loss: 0.7104 - acc: 0.8103 - val_loss: 0.6757 - val_acc: 0.8480\n",
            "Epoch 15/30\n",
            "750/750 [==============================] - 80s 107ms/step - loss: 0.7075 - acc: 0.8148 - val_loss: 0.6295 - val_acc: 0.8430\n",
            "Epoch 16/30\n",
            "750/750 [==============================] - 81s 108ms/step - loss: 0.6997 - acc: 0.8200 - val_loss: 0.6683 - val_acc: 0.8630\n",
            "Epoch 17/30\n",
            "750/750 [==============================] - 80s 107ms/step - loss: 0.6798 - acc: 0.8251 - val_loss: 0.6007 - val_acc: 0.8575\n",
            "Epoch 18/30\n",
            "750/750 [==============================] - 79s 105ms/step - loss: 0.6804 - acc: 0.8179 - val_loss: 0.8674 - val_acc: 0.8410\n",
            "Epoch 19/30\n",
            "750/750 [==============================] - 79s 106ms/step - loss: 0.6434 - acc: 0.8331 - val_loss: 0.7643 - val_acc: 0.8725\n",
            "Epoch 20/30\n",
            "750/750 [==============================] - 79s 105ms/step - loss: 0.6470 - acc: 0.8383 - val_loss: 0.6589 - val_acc: 0.8670\n",
            "Epoch 21/30\n",
            "750/750 [==============================] - 78s 105ms/step - loss: 0.6082 - acc: 0.8456 - val_loss: 0.8751 - val_acc: 0.8605\n",
            "Epoch 22/30\n",
            "750/750 [==============================] - 79s 105ms/step - loss: 0.6166 - acc: 0.8436 - val_loss: 0.6959 - val_acc: 0.8595\n",
            "Epoch 23/30\n",
            "750/750 [==============================] - 79s 105ms/step - loss: 0.5834 - acc: 0.8491 - val_loss: 0.6523 - val_acc: 0.8725\n",
            "Epoch 24/30\n",
            "750/750 [==============================] - 79s 106ms/step - loss: 0.5545 - acc: 0.8603 - val_loss: 0.7761 - val_acc: 0.8530\n",
            "Epoch 25/30\n",
            "750/750 [==============================] - 80s 106ms/step - loss: 0.5455 - acc: 0.8583 - val_loss: 0.7819 - val_acc: 0.8680\n",
            "Epoch 26/30\n",
            "750/750 [==============================] - 81s 108ms/step - loss: 0.5531 - acc: 0.8580 - val_loss: 0.8649 - val_acc: 0.8510\n",
            "Epoch 27/30\n",
            "750/750 [==============================] - 79s 105ms/step - loss: 0.5421 - acc: 0.8637 - val_loss: 0.7378 - val_acc: 0.8635\n",
            "Epoch 28/30\n",
            "750/750 [==============================] - 78s 105ms/step - loss: 0.5353 - acc: 0.8688 - val_loss: 0.8093 - val_acc: 0.8600\n",
            "Epoch 29/30\n",
            "750/750 [==============================] - 80s 106ms/step - loss: 0.5379 - acc: 0.8671 - val_loss: 0.6953 - val_acc: 0.8615\n",
            "Epoch 30/30\n",
            "750/750 [==============================] - 82s 109ms/step - loss: 0.5223 - acc: 0.8704 - val_loss: 0.9342 - val_acc: 0.8535\n"
          ],
          "name": "stdout"
        }
      ]
    },
    {
      "cell_type": "code",
      "metadata": {
        "id": "G4WD9Ox7G0Uw",
        "colab_type": "code",
        "outputId": "6c0b1280-2a7e-4d3f-ba6d-30feb81e185e",
        "colab": {
          "base_uri": "https://localhost:8080/",
          "height": 650
        }
      },
      "source": [
        "# Plot the Training and Validation Accuracy & Loss Scores\n",
        "acc2 = history2.history['acc']\n",
        "val_acc2 = history2.history['val_acc']\n",
        "loss2 = history2.history['loss']\n",
        "val_loss2 = history2.history['val_loss']\n",
        "\n",
        "epochs2 = range(len(acc2))\n",
        "\n",
        "plt.plot(epochs2, acc2, 'bo', label='Training acc')\n",
        "plt.plot(epochs2, val_acc2, 'b', label='Validation acc')\n",
        "plt.title('Training and validation accuracy')\n",
        "plt.legend()\n",
        "\n",
        "plt.figure()\n",
        "\n",
        "plt.plot(epochs2, loss2, 'bo', label='Training loss')\n",
        "plt.plot(epochs2, val_loss2, 'b', label='Validation loss')\n",
        "plt.title('Training and validation loss')\n",
        "plt.legend()\n",
        "\n",
        "plt.show()\n",
        "\n",
        "\n",
        "test_generator = test_datagen.flow_from_directory(\n",
        "        test_dir,\n",
        "        target_size=(img_size, img_size),\n",
        "        batch_size=25,\n",
        "        class_mode='categorical')\n",
        "test_loss, test_acc = model2.evaluate_generator(test_generator, steps=20)\n",
        "print('test acc:', test_acc)"
      ],
      "execution_count": 0,
      "outputs": [
        {
          "output_type": "display_data",
          "data": {
            "image/png": "[encoded data removed]",
            "text/plain": [
              "<Figure size 432x288 with 1 Axes>"
            ]
          },
          "metadata": {
            "tags": [],
            "needs_background": "light"
          }
        },
        {
          "output_type": "display_data",
          "data": {
            "image/png": "[encoded data removed]",
            "text/plain": [
              "<Figure size 432x288 with 1 Axes>"
            ]
          },
          "metadata": {
            "tags": [],
            "needs_background": "light"
          }
        },
        {
          "output_type": "stream",
          "text": [
            "Found 500 images belonging to 10 classes.\n",
            "WARNING:tensorflow:From <ipython-input-7-a7dcf169d6b0>:29: Model.evaluate_generator (from tensorflow.python.keras.engine.training) is deprecated and will be removed in a future version.\n",
            "Instructions for updating:\n",
            "Please use Model.evaluate, which supports generators.\n",
            "test acc: 0.8460000157356262\n"
          ],
          "name": "stdout"
        }
      ]
    },
    {
      "cell_type": "code",
      "metadata": {
        "id": "vOJScs3SG0ck",
        "colab_type": "code",
        "colab": {}
      },
      "source": [
        "# Save the Model to google drive\n",
        "model2.save(model_path+'food_model_(MobileNet_unfrozen_regularizer)v2.h5')\n",
        "model2.save('food_model_(MobileNet_unfrozen_regularizer)v2backup.h5')"
      ],
      "execution_count": 0,
      "outputs": []
    },
    {
      "cell_type": "code",
      "metadata": {
        "id": "3ybZqpZhSpUG",
        "colab_type": "code",
        "outputId": "aeab79ae-a242-4d53-87a1-57d1c8cd9431",
        "colab": {
          "base_uri": "https://localhost:8080/",
          "height": 1000
        }
      },
      "source": [
        "history2 = model2.fit_generator(\n",
        "      train_generator,\n",
        "      steps_per_epoch=750,\n",
        "      epochs=30,\n",
        "      validation_data=validation_generator,\n",
        "      validation_steps=200,\n",
        "      verbose=1)"
      ],
      "execution_count": 0,
      "outputs": [
        {
          "output_type": "stream",
          "text": [
            "Epoch 1/30\n",
            "750/750 [==============================] - 82s 109ms/step - loss: 0.5172 - acc: 0.8759 - val_loss: 0.7158 - val_acc: 0.8600\n",
            "Epoch 2/30\n",
            "750/750 [==============================] - 82s 109ms/step - loss: 0.5196 - acc: 0.8720 - val_loss: 0.7134 - val_acc: 0.8605\n",
            "Epoch 3/30\n",
            "750/750 [==============================] - 84s 111ms/step - loss: 0.5062 - acc: 0.8755 - val_loss: 0.8370 - val_acc: 0.8615\n",
            "Epoch 4/30\n",
            "750/750 [==============================] - 84s 112ms/step - loss: 0.5141 - acc: 0.8757 - val_loss: 1.0898 - val_acc: 0.8490\n",
            "Epoch 5/30\n",
            "750/750 [==============================] - 83s 111ms/step - loss: 0.4903 - acc: 0.8833 - val_loss: 0.8126 - val_acc: 0.8690\n",
            "Epoch 6/30\n",
            "750/750 [==============================] - 86s 115ms/step - loss: 0.4762 - acc: 0.8851 - val_loss: 0.7717 - val_acc: 0.8640\n",
            "Epoch 7/30\n",
            "750/750 [==============================] - 82s 109ms/step - loss: 0.4679 - acc: 0.8852 - val_loss: 0.8161 - val_acc: 0.8660\n",
            "Epoch 8/30\n",
            "750/750 [==============================] - 81s 108ms/step - loss: 0.4636 - acc: 0.8872 - val_loss: 0.7931 - val_acc: 0.8705\n",
            "Epoch 9/30\n",
            "750/750 [==============================] - 82s 109ms/step - loss: 0.4782 - acc: 0.8856 - val_loss: 0.8292 - val_acc: 0.8655\n",
            "Epoch 10/30\n",
            "750/750 [==============================] - 84s 112ms/step - loss: 0.4729 - acc: 0.8868 - val_loss: 0.8250 - val_acc: 0.8720\n",
            "Epoch 11/30\n",
            "750/750 [==============================] - 84s 112ms/step - loss: 0.4653 - acc: 0.8928 - val_loss: 0.9046 - val_acc: 0.8590\n",
            "Epoch 12/30\n",
            "750/750 [==============================] - 83s 111ms/step - loss: 0.4548 - acc: 0.8875 - val_loss: 1.1215 - val_acc: 0.8380\n",
            "Epoch 13/30\n",
            "750/750 [==============================] - 84s 112ms/step - loss: 0.4649 - acc: 0.8893 - val_loss: 0.8186 - val_acc: 0.8570\n",
            "Epoch 14/30\n",
            "750/750 [==============================] - 84s 112ms/step - loss: 0.4529 - acc: 0.8905 - val_loss: 1.0134 - val_acc: 0.8555\n",
            "Epoch 15/30\n",
            "750/750 [==============================] - 84s 112ms/step - loss: 0.4281 - acc: 0.8999 - val_loss: 0.9669 - val_acc: 0.8645\n",
            "Epoch 16/30\n",
            "750/750 [==============================] - 85s 113ms/step - loss: 0.4458 - acc: 0.8925 - val_loss: 0.8964 - val_acc: 0.8630\n",
            "Epoch 17/30\n",
            "750/750 [==============================] - 84s 112ms/step - loss: 0.4401 - acc: 0.9028 - val_loss: 0.8973 - val_acc: 0.8680\n",
            "Epoch 18/30\n",
            "750/750 [==============================] - 84s 113ms/step - loss: 0.4278 - acc: 0.8968 - val_loss: 0.9059 - val_acc: 0.8620\n",
            "Epoch 19/30\n",
            "750/750 [==============================] - 84s 111ms/step - loss: 0.4436 - acc: 0.8995 - val_loss: 0.9506 - val_acc: 0.8575\n",
            "Epoch 20/30\n",
            "750/750 [==============================] - 83s 110ms/step - loss: 0.4223 - acc: 0.9043 - val_loss: 0.9417 - val_acc: 0.8535\n",
            "Epoch 21/30\n",
            "750/750 [==============================] - 82s 110ms/step - loss: 0.4220 - acc: 0.9031 - val_loss: 0.8658 - val_acc: 0.8675\n",
            "Epoch 22/30\n",
            "750/750 [==============================] - 82s 109ms/step - loss: 0.4141 - acc: 0.9063 - val_loss: 0.9395 - val_acc: 0.8515\n",
            "Epoch 23/30\n",
            "750/750 [==============================] - 82s 109ms/step - loss: 0.4022 - acc: 0.9037 - val_loss: 1.0484 - val_acc: 0.8615\n",
            "Epoch 24/30\n",
            "750/750 [==============================] - 82s 109ms/step - loss: 0.3935 - acc: 0.9044 - val_loss: 0.9271 - val_acc: 0.8640\n",
            "Epoch 25/30\n",
            "750/750 [==============================] - 81s 107ms/step - loss: 0.3921 - acc: 0.9060 - val_loss: 0.8356 - val_acc: 0.8740\n",
            "Epoch 26/30\n",
            "750/750 [==============================] - 85s 114ms/step - loss: 0.3974 - acc: 0.9069 - val_loss: 0.9945 - val_acc: 0.8655\n",
            "Epoch 27/30\n",
            "750/750 [==============================] - 86s 114ms/step - loss: 0.3977 - acc: 0.9111 - val_loss: 1.0914 - val_acc: 0.8435\n",
            "Epoch 28/30\n",
            "750/750 [==============================] - 85s 113ms/step - loss: 0.3742 - acc: 0.9133 - val_loss: 0.8510 - val_acc: 0.8720\n",
            "Epoch 29/30\n",
            "750/750 [==============================] - 83s 111ms/step - loss: 0.3962 - acc: 0.9112 - val_loss: 0.9904 - val_acc: 0.8565\n",
            "Epoch 30/30\n",
            "750/750 [==============================] - 83s 110ms/step - loss: 0.3758 - acc: 0.9120 - val_loss: 1.0371 - val_acc: 0.8605\n"
          ],
          "name": "stdout"
        }
      ]
    },
    {
      "cell_type": "code",
      "metadata": {
        "id": "AFYydTulSpaZ",
        "colab_type": "code",
        "outputId": "dade9630-5423-428c-e17b-6de377ea5529",
        "colab": {
          "base_uri": "https://localhost:8080/",
          "height": 579
        }
      },
      "source": [
        "# Plot the Training and Validation Accuracy & Loss Scores\n",
        "acc2 = history2.history['acc']\n",
        "val_acc2 = history2.history['val_acc']\n",
        "loss2 = history2.history['loss']\n",
        "val_loss2 = history2.history['val_loss']\n",
        "\n",
        "epochs2 = range(len(acc2))\n",
        "\n",
        "plt.plot(epochs2, acc2, 'bo', label='Training acc')\n",
        "plt.plot(epochs2, val_acc2, 'b', label='Validation acc')\n",
        "plt.title('Training and validation accuracy')\n",
        "plt.legend()\n",
        "\n",
        "plt.figure()\n",
        "\n",
        "plt.plot(epochs2, loss2, 'bo', label='Training loss')\n",
        "plt.plot(epochs2, val_loss2, 'b', label='Validation loss')\n",
        "plt.title('Training and validation loss')\n",
        "plt.legend()\n",
        "\n",
        "plt.show()\n",
        "\n",
        "\n",
        "test_generator = test_datagen.flow_from_directory(\n",
        "        test_dir,\n",
        "        target_size=(img_size, img_size),\n",
        "        batch_size=25,\n",
        "        class_mode='categorical')\n",
        "test_loss, test_acc = model2.evaluate_generator(test_generator, steps=20)\n",
        "print('test acc:', test_acc)"
      ],
      "execution_count": 0,
      "outputs": [
        {
          "output_type": "display_data",
          "data": {
            "image/png": "[encoded data removed]",
            "text/plain": [
              "<Figure size 432x288 with 1 Axes>"
            ]
          },
          "metadata": {
            "tags": [],
            "needs_background": "light"
          }
        },
        {
          "output_type": "display_data",
          "data": {
            "image/png": "[encoded data removed]",
            "text/plain": [
              "<Figure size 432x288 with 1 Axes>"
            ]
          },
          "metadata": {
            "tags": [],
            "needs_background": "light"
          }
        },
        {
          "output_type": "stream",
          "text": [
            "Found 500 images belonging to 10 classes.\n",
            "test acc: 0.8579999804496765\n"
          ],
          "name": "stdout"
        }
      ]
    },
    {
      "cell_type": "code",
      "metadata": {
        "id": "8jWKfryHSpn5",
        "colab_type": "code",
        "colab": {}
      },
      "source": [
        "# Save the Model to google drive\n",
        "model2.save(model_path+'food_model_(MobileNet_unfrozen_regularizer)v2_1.h5')\n",
        "model2.save('food_model_(MobileNet_unfrozen_regularizer)v2_1backup.h5')"
      ],
      "execution_count": 0,
      "outputs": []
    },
    {
      "cell_type": "code",
      "metadata": {
        "id": "M5hqw1r3YuvJ",
        "colab_type": "code",
        "outputId": "ad9c59c6-cfe1-4b87-9b6c-e1b2125e012d",
        "colab": {
          "base_uri": "https://localhost:8080/",
          "height": 1000
        }
      },
      "source": [
        "#more epoch (total 100)\n",
        "history2 = model2.fit_generator(\n",
        "      train_generator,\n",
        "      steps_per_epoch=750,\n",
        "      epochs=40,\n",
        "      validation_data=validation_generator,\n",
        "      validation_steps=200,\n",
        "      verbose=1)"
      ],
      "execution_count": 0,
      "outputs": [
        {
          "output_type": "stream",
          "text": [
            "Epoch 1/40\n",
            "750/750 [==============================] - 84s 112ms/step - loss: 0.3755 - acc: 0.9159 - val_loss: 0.9065 - val_acc: 0.8635\n",
            "Epoch 2/40\n",
            "750/750 [==============================] - 84s 112ms/step - loss: 0.3571 - acc: 0.9152 - val_loss: 0.8136 - val_acc: 0.8745\n",
            "Epoch 3/40\n",
            "750/750 [==============================] - 84s 112ms/step - loss: 0.3789 - acc: 0.9127 - val_loss: 1.0888 - val_acc: 0.8675\n",
            "Epoch 4/40\n",
            "750/750 [==============================] - 84s 112ms/step - loss: 0.3795 - acc: 0.9131 - val_loss: 1.1148 - val_acc: 0.8610\n",
            "Epoch 5/40\n",
            "750/750 [==============================] - 84s 112ms/step - loss: 0.3721 - acc: 0.9141 - val_loss: 1.2027 - val_acc: 0.8590\n",
            "Epoch 6/40\n",
            "750/750 [==============================] - 84s 112ms/step - loss: 0.3739 - acc: 0.9129 - val_loss: 1.0861 - val_acc: 0.8565\n",
            "Epoch 7/40\n",
            "750/750 [==============================] - 82s 110ms/step - loss: 0.3645 - acc: 0.9155 - val_loss: 0.9163 - val_acc: 0.8735\n",
            "Epoch 8/40\n",
            "750/750 [==============================] - 82s 110ms/step - loss: 0.3910 - acc: 0.9121 - val_loss: 0.8712 - val_acc: 0.8790\n",
            "Epoch 9/40\n",
            "750/750 [==============================] - 82s 109ms/step - loss: 0.3603 - acc: 0.9168 - val_loss: 0.8730 - val_acc: 0.8715\n",
            "Epoch 10/40\n",
            "750/750 [==============================] - 80s 107ms/step - loss: 0.3612 - acc: 0.9164 - val_loss: 1.1013 - val_acc: 0.8615\n",
            "Epoch 11/40\n",
            "750/750 [==============================] - 80s 107ms/step - loss: 0.3865 - acc: 0.9136 - val_loss: 1.1125 - val_acc: 0.8475\n",
            "Epoch 12/40\n",
            "750/750 [==============================] - 82s 109ms/step - loss: 0.3738 - acc: 0.9155 - val_loss: 0.8580 - val_acc: 0.8680\n",
            "Epoch 13/40\n",
            "750/750 [==============================] - 83s 110ms/step - loss: 0.3685 - acc: 0.9220 - val_loss: 1.0740 - val_acc: 0.8585\n",
            "Epoch 14/40\n",
            "750/750 [==============================] - 83s 110ms/step - loss: 0.3348 - acc: 0.9219 - val_loss: 1.1316 - val_acc: 0.8580\n",
            "Epoch 15/40\n",
            "750/750 [==============================] - 82s 109ms/step - loss: 0.3682 - acc: 0.9173 - val_loss: 0.9931 - val_acc: 0.8655\n",
            "Epoch 16/40\n",
            "750/750 [==============================] - 82s 110ms/step - loss: 0.3645 - acc: 0.9228 - val_loss: 0.8915 - val_acc: 0.8605\n",
            "Epoch 17/40\n",
            "750/750 [==============================] - 83s 111ms/step - loss: 0.3703 - acc: 0.9169 - val_loss: 0.9642 - val_acc: 0.8590\n",
            "Epoch 18/40\n",
            "750/750 [==============================] - 84s 111ms/step - loss: 0.3440 - acc: 0.9241 - val_loss: 1.0579 - val_acc: 0.8635\n",
            "Epoch 19/40\n",
            "750/750 [==============================] - 85s 113ms/step - loss: 0.3585 - acc: 0.9203 - val_loss: 1.0830 - val_acc: 0.8540\n",
            "Epoch 20/40\n",
            "750/750 [==============================] - 82s 109ms/step - loss: 0.3292 - acc: 0.9251 - val_loss: 0.8958 - val_acc: 0.8650\n",
            "Epoch 21/40\n",
            "750/750 [==============================] - 81s 108ms/step - loss: 0.3275 - acc: 0.9245 - val_loss: 1.1296 - val_acc: 0.8570\n",
            "Epoch 22/40\n",
            "750/750 [==============================] - 79s 105ms/step - loss: 0.3848 - acc: 0.9209 - val_loss: 0.9915 - val_acc: 0.8550\n",
            "Epoch 23/40\n",
            "750/750 [==============================] - 79s 106ms/step - loss: 0.3551 - acc: 0.9213 - val_loss: 0.9694 - val_acc: 0.8755\n",
            "Epoch 24/40\n",
            "750/750 [==============================] - 79s 105ms/step - loss: 0.3328 - acc: 0.9245 - val_loss: 0.9332 - val_acc: 0.8685\n",
            "Epoch 25/40\n",
            "750/750 [==============================] - 78s 104ms/step - loss: 0.3213 - acc: 0.9305 - val_loss: 1.2556 - val_acc: 0.8500\n",
            "Epoch 26/40\n",
            "750/750 [==============================] - 78s 104ms/step - loss: 0.3338 - acc: 0.9271 - val_loss: 1.2268 - val_acc: 0.8575\n",
            "Epoch 27/40\n",
            "750/750 [==============================] - 79s 106ms/step - loss: 0.3361 - acc: 0.9251 - val_loss: 0.9531 - val_acc: 0.8810\n",
            "Epoch 28/40\n",
            "750/750 [==============================] - 79s 105ms/step - loss: 0.3321 - acc: 0.9225 - val_loss: 1.1373 - val_acc: 0.8590\n",
            "Epoch 29/40\n",
            "750/750 [==============================] - 78s 105ms/step - loss: 0.3230 - acc: 0.9276 - val_loss: 0.9063 - val_acc: 0.8720\n",
            "Epoch 30/40\n",
            "750/750 [==============================] - 79s 105ms/step - loss: 0.3388 - acc: 0.9240 - val_loss: 0.8923 - val_acc: 0.8695\n",
            "Epoch 31/40\n",
            "750/750 [==============================] - 79s 105ms/step - loss: 0.3512 - acc: 0.9263 - val_loss: 0.9226 - val_acc: 0.8710\n",
            "Epoch 32/40\n",
            "750/750 [==============================] - 78s 104ms/step - loss: 0.3068 - acc: 0.9329 - val_loss: 1.0033 - val_acc: 0.8505\n",
            "Epoch 33/40\n",
            "750/750 [==============================] - 77s 103ms/step - loss: 0.2885 - acc: 0.9364 - val_loss: 0.9959 - val_acc: 0.8615\n",
            "Epoch 34/40\n",
            "750/750 [==============================] - 77s 103ms/step - loss: 0.3442 - acc: 0.9251 - val_loss: 0.8791 - val_acc: 0.8770\n",
            "Epoch 35/40\n",
            "750/750 [==============================] - 77s 103ms/step - loss: 0.3238 - acc: 0.9296 - val_loss: 1.0166 - val_acc: 0.8655\n",
            "Epoch 36/40\n",
            "750/750 [==============================] - 77s 103ms/step - loss: 0.3380 - acc: 0.9296 - val_loss: 0.9461 - val_acc: 0.8695\n",
            "Epoch 37/40\n",
            "750/750 [==============================] - 77s 103ms/step - loss: 0.3245 - acc: 0.9325 - val_loss: 0.8856 - val_acc: 0.8670\n",
            "Epoch 38/40\n",
            "750/750 [==============================] - 77s 103ms/step - loss: 0.3263 - acc: 0.9253 - val_loss: 0.7756 - val_acc: 0.8715\n",
            "Epoch 39/40\n",
            "750/750 [==============================] - 78s 103ms/step - loss: 0.3225 - acc: 0.9275 - val_loss: 1.0446 - val_acc: 0.8725\n",
            "Epoch 40/40\n",
            "750/750 [==============================] - 78s 104ms/step - loss: 0.3507 - acc: 0.9280 - val_loss: 0.9260 - val_acc: 0.8745\n"
          ],
          "name": "stdout"
        }
      ]
    },
    {
      "cell_type": "code",
      "metadata": {
        "id": "PNVVj5LPYvGo",
        "colab_type": "code",
        "outputId": "893280a7-0a02-4ef0-9d5a-d7b6d72e0e4f",
        "colab": {
          "base_uri": "https://localhost:8080/",
          "height": 579
        }
      },
      "source": [
        "# Plot the Training and Validation Accuracy & Loss Scores\n",
        "acc2 = history2.history['acc']\n",
        "val_acc2 = history2.history['val_acc']\n",
        "loss2 = history2.history['loss']\n",
        "val_loss2 = history2.history['val_loss']\n",
        "\n",
        "epochs2 = range(len(acc2))\n",
        "\n",
        "plt.plot(epochs2, acc2, 'bo', label='Training acc')\n",
        "plt.plot(epochs2, val_acc2, 'b', label='Validation acc')\n",
        "plt.title('Training and validation accuracy')\n",
        "plt.legend()\n",
        "\n",
        "plt.figure()\n",
        "\n",
        "plt.plot(epochs2, loss2, 'bo', label='Training loss')\n",
        "plt.plot(epochs2, val_loss2, 'b', label='Validation loss')\n",
        "plt.title('Training and validation loss')\n",
        "plt.legend()\n",
        "\n",
        "plt.show()\n",
        "\n",
        "\n",
        "test_generator = test_datagen.flow_from_directory(\n",
        "        test_dir,\n",
        "        target_size=(img_size, img_size),\n",
        "        batch_size=25,\n",
        "        class_mode='categorical')\n",
        "test_loss, test_acc = model2.evaluate_generator(test_generator, steps=20)\n",
        "print('test acc:', test_acc)"
      ],
      "execution_count": 0,
      "outputs": [
        {
          "output_type": "display_data",
          "data": {
            "image/png": "[encoded data removed]",
            "text/plain": [
              "<Figure size 432x288 with 1 Axes>"
            ]
          },
          "metadata": {
            "tags": [],
            "needs_background": "light"
          }
        },
        {
          "output_type": "display_data",
          "data": {
            "image/png": "[encoded data removed]",
            "text/plain": [
              "<Figure size 432x288 with 1 Axes>"
            ]
          },
          "metadata": {
            "tags": [],
            "needs_background": "light"
          }
        },
        {
          "output_type": "stream",
          "text": [
            "Found 500 images belonging to 10 classes.\n",
            "test acc: 0.8759999871253967\n"
          ],
          "name": "stdout"
        }
      ]
    },
    {
      "cell_type": "code",
      "metadata": {
        "id": "FHjRECcAYvex",
        "colab_type": "code",
        "colab": {}
      },
      "source": [
        "# Save the Model to google drive\n",
        "model2.save(model_path+'food_model_(MobileNet_unfrozen_regularizer)v2_2.h5')\n",
        "model2.save('food_model_(MobileNet_unfrozen_regularizer)v2_2backup.h5')"
      ],
      "execution_count": 0,
      "outputs": []
    },
    {
      "cell_type": "markdown",
      "metadata": {
        "id": "YYzZDizhK3IT",
        "colab_type": "text"
      },
      "source": [
        "## Step 3 – Evaluate the Developed Models using Testing Images"
      ]
    },
    {
      "cell_type": "code",
      "metadata": {
        "id": "LrYHOl7GK3IT",
        "colab_type": "code",
        "colab": {}
      },
      "source": [
        "# Model #1\n",
        "model.load_weights('food_model_1.h5')\n",
        "\n",
        "\n"
      ],
      "execution_count": 0,
      "outputs": []
    },
    {
      "cell_type": "code",
      "metadata": {
        "id": "erUyQYV-K3IU",
        "colab_type": "code",
        "colab": {}
      },
      "source": [
        "# Model #2\n",
        "model.load_weights('food_model_2.h5')\n",
        "\n",
        "\n"
      ],
      "execution_count": 0,
      "outputs": []
    },
    {
      "cell_type": "code",
      "metadata": {
        "id": "yVy6gDm0K3IW",
        "colab_type": "code",
        "colab": {}
      },
      "source": [
        "# Save the best model\n",
        "\n",
        "\n",
        "model.save('food_model_best.h5')"
      ],
      "execution_count": 0,
      "outputs": []
    },
    {
      "cell_type": "markdown",
      "metadata": {
        "id": "hSnTKcmdK3IY",
        "colab_type": "text"
      },
      "source": [
        "## Step 4  – Use the best model to make prediction"
      ]
    },
    {
      "cell_type": "code",
      "metadata": {
        "id": "hOQ4PQfpK3IY",
        "colab_type": "code",
        "colab": {}
      },
      "source": [
        "# Load the model\n",
        "model.load_weights('food_model_best.h5')"
      ],
      "execution_count": 0,
      "outputs": []
    },
    {
      "cell_type": "code",
      "metadata": {
        "id": "AvBCzA0oK3IZ",
        "colab_type": "code",
        "colab": {}
      },
      "source": [
        "# Load the food list (in alphabetical order)\n",
        "with open('??.txt', 'r') as f: # the .txt file which contains a list of food assigned to you\n",
        "    x = f.readlines()\n",
        "food_list =[]\n",
        "for item in x:\n",
        "    food_list.append(item.strip('\\n'))\n",
        "food_list = sorted(food_list) # food_list needs to be sorted alphabetically before feed into prediction() function\n",
        "print(food_list)"
      ],
      "execution_count": 0,
      "outputs": []
    },
    {
      "cell_type": "code",
      "metadata": {
        "id": "dpgxR8T5K3Ia",
        "colab_type": "code",
        "colab": {}
      },
      "source": [
        "# Define some related functions for image process and model prediction\n",
        "from keras.preprocessing.image import load_img, img_to_array\n",
        "def image_process(img):\n",
        "    image = load_img(img, target_size =(img_size, img_size))\n",
        "    image_array = img_to_array(image)/255\n",
        "    return image_array\n",
        "\n",
        "import pandas as pd\n",
        "def prediction(model, img_array, items_l):\n",
        "    prob = model.predict(img_array.reshape(1,img_size,img_size,3))\n",
        "    pro_df = pd.DataFrame(prob, columns = items_l)\n",
        "    result = items_l[np.argmax(prob)]\n",
        "    return pro_df, result"
      ],
      "execution_count": 0,
      "outputs": []
    },
    {
      "cell_type": "code",
      "metadata": {
        "id": "DAFYHPNYK3Ib",
        "colab_type": "code",
        "colab": {}
      },
      "source": [
        "# Make prediction for the image you downloaded from internet\n",
        "import matplotlib.pyplot as plt\n",
        "img = '??.jpeg' # the picture you downloaded from internet, which contains a type of food in your food list\n",
        "plt.imshow(plt.imread(img))\n",
        "plt.show()\n",
        "\n",
        "img_array = image_process(img)\n",
        "prob_df, result = prediction(model, img_array, food_list)\n",
        "print('The prediction is: ', result, '\\n\\n', prob_df)"
      ],
      "execution_count": 0,
      "outputs": []
    }
  ]
}